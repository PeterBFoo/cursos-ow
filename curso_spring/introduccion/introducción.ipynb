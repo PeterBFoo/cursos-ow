{
 "cells": [
  {
   "cell_type": "markdown",
   "metadata": {},
   "source": [
    "# Curso Spingboot\n",
    "\n",
    "---\n",
    "\n",
    "## 1. Introducción\n",
    "\n",
    "- Caracerísticas de SpingBoot\n",
    "\n",
    "    - Inyección de dependencias\n",
    "    - Modelo Vista Controlador\n",
    "    - Modelo Programación Reactiva\n",
    "    - Acceso a Datos y Persistencia\n",
    "    - Programación orientada a Aspectos\n",
    "    - Cero configuración\n",
    "    - Mínimo requerido JDK 8\n",
    "    - Programación funcional con Reactor\n",
    "\n",
    "- Componentes que se verán en el curso\n",
    "\n",
    "    - Spring Boot\n",
    "    - Spring IoC\n",
    "    - Spring MVC\n",
    "    - Spring WebFlux\n",
    "    - Vistas Thymeleaf\n",
    "    - Spring Security\n",
    "    - JWT\n",
    "    - Spring Data JPA e Hibernate\n",
    "    - Spring Data Mongo\n",
    "    - Exportar a PDF y Excel\n",
    "    - Subida de archivos\n",
    "    - API Rest\n",
    "    - Angular 7\n",
    "\n",
    "## 3. Herramientas necesarias\n",
    "\n",
    "- JDK (Java SE Development Kit)\n",
    "- Spring Tools IDE (en Eclipse)\n",
    "- Maven\n",
    "- MySQL 8\n"
   ]
  }
 ],
 "metadata": {
  "language_info": {
   "name": "python"
  },
  "orig_nbformat": 4
 },
 "nbformat": 4,
 "nbformat_minor": 2
}
